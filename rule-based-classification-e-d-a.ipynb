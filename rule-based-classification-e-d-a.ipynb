{
 "cells": [
  {
   "cell_type": "markdown",
   "id": "0c83dd4e",
   "metadata": {
    "papermill": {
     "duration": 0.011563,
     "end_time": "2023-11-09T10:37:26.615620",
     "exception": false,
     "start_time": "2023-11-09T10:37:26.604057",
     "status": "completed"
    },
    "tags": []
   },
   "source": [
    "# BUSINESS PROBLEM"
   ]
  },
  {
   "cell_type": "markdown",
   "id": "aa1ae703",
   "metadata": {
    "papermill": {
     "duration": 0.0106,
     "end_time": "2023-11-09T10:37:26.636847",
     "exception": false,
     "start_time": "2023-11-09T10:37:26.626247",
     "status": "completed"
    },
    "tags": []
   },
   "source": [
    "A gaming company wants to create level-based customer definitions (persona) using customers' features."
   ]
  },
  {
   "cell_type": "markdown",
   "id": "b8d5a827",
   "metadata": {
    "papermill": {
     "duration": 0.010307,
     "end_time": "2023-11-09T10:37:26.657604",
     "exception": false,
     "start_time": "2023-11-09T10:37:26.647297",
     "status": "completed"
    },
    "tags": []
   },
   "source": [
    "# ABOUT DATASET"
   ]
  },
  {
   "cell_type": "markdown",
   "id": "db2fb90b",
   "metadata": {
    "papermill": {
     "duration": 0.010074,
     "end_time": "2023-11-09T10:37:26.678065",
     "exception": false,
     "start_time": "2023-11-09T10:37:26.667991",
     "status": "completed"
    },
    "tags": []
   },
   "source": [
    "The data set contains the prices of the products sold by an international gaming company and some demographic information of the users who purchased these products.\n",
    "In this data set, a user with demographic characteristics may have made more than one purchase.\n"
   ]
  },
  {
   "cell_type": "markdown",
   "id": "7319d72f",
   "metadata": {
    "papermill": {
     "duration": 0.010457,
     "end_time": "2023-11-09T10:37:26.699149",
     "exception": false,
     "start_time": "2023-11-09T10:37:26.688692",
     "status": "completed"
    },
    "tags": []
   },
   "source": [
    "# COLUMNS"
   ]
  },
  {
   "cell_type": "markdown",
   "id": "497ef709",
   "metadata": {
    "papermill": {
     "duration": 0.010486,
     "end_time": "2023-11-09T10:37:26.720036",
     "exception": false,
     "start_time": "2023-11-09T10:37:26.709550",
     "status": "completed"
    },
    "tags": []
   },
   "source": [
    "* PRICE:Customer's Spending Amount\n",
    "* SOURCE:The Type of device the Customer Uses\n",
    "* SEX:Customer's Gender\n",
    "* COUNTRY – Customer's Country\n",
    "* AGE – Customer's Age\n"
   ]
  },
  {
   "cell_type": "markdown",
   "id": "279af646",
   "metadata": {
    "papermill": {
     "duration": 0.010103,
     "end_time": "2023-11-09T10:37:26.740439",
     "exception": false,
     "start_time": "2023-11-09T10:37:26.730336",
     "status": "completed"
    },
    "tags": []
   },
   "source": [
    "# PREPARING DATA"
   ]
  },
  {
   "cell_type": "code",
   "execution_count": 1,
   "id": "bb31e899",
   "metadata": {
    "execution": {
     "iopub.execute_input": "2023-11-09T10:37:26.763869Z",
     "iopub.status.busy": "2023-11-09T10:37:26.763470Z",
     "iopub.status.idle": "2023-11-09T10:37:28.829321Z",
     "shell.execute_reply": "2023-11-09T10:37:28.828246Z"
    },
    "papermill": {
     "duration": 2.081117,
     "end_time": "2023-11-09T10:37:28.831864",
     "exception": false,
     "start_time": "2023-11-09T10:37:26.750747",
     "status": "completed"
    },
    "tags": []
   },
   "outputs": [],
   "source": [
    "import numpy as np\n",
    "import pandas as pd\n",
    "import seaborn as sns\n",
    "import matplotlib.pyplot as plt\n",
    "pd.set_option('display.max_columns', None)\n",
    "pd.set_option('display.width', 500)\n"
   ]
  },
  {
   "cell_type": "code",
   "execution_count": 2,
   "id": "3d2875c6",
   "metadata": {
    "execution": {
     "iopub.execute_input": "2023-11-09T10:37:28.854465Z",
     "iopub.status.busy": "2023-11-09T10:37:28.853893Z",
     "iopub.status.idle": "2023-11-09T10:37:28.885156Z",
     "shell.execute_reply": "2023-11-09T10:37:28.883851Z"
    },
    "papermill": {
     "duration": 0.045686,
     "end_time": "2023-11-09T10:37:28.888013",
     "exception": false,
     "start_time": "2023-11-09T10:37:28.842327",
     "status": "completed"
    },
    "tags": []
   },
   "outputs": [],
   "source": [
    "df=pd.read_csv(\"/kaggle/input/personacsv/persona.csv\")"
   ]
  },
  {
   "cell_type": "code",
   "execution_count": 3,
   "id": "5938f13e",
   "metadata": {
    "execution": {
     "iopub.execute_input": "2023-11-09T10:37:28.912400Z",
     "iopub.status.busy": "2023-11-09T10:37:28.911549Z",
     "iopub.status.idle": "2023-11-09T10:37:28.919582Z",
     "shell.execute_reply": "2023-11-09T10:37:28.918543Z"
    },
    "papermill": {
     "duration": 0.022819,
     "end_time": "2023-11-09T10:37:28.922090",
     "exception": false,
     "start_time": "2023-11-09T10:37:28.899271",
     "status": "completed"
    },
    "tags": []
   },
   "outputs": [],
   "source": [
    "def check_df(dataframe,head=5,tail=5):\n",
    "    print(\"##################### Shape #####################\")\n",
    "    print(dataframe.shape)\n",
    "    print(\"##################### Types #####################\")\n",
    "    print(dataframe.dtypes)\n",
    "    print(\"##################### Head #####################\")\n",
    "    print(dataframe.head(head))\n",
    "    print(\"##################### Tail #####################\")\n",
    "    print(dataframe.tail(head))\n",
    "    print(\"##################### NA #####################\")\n",
    "    print(dataframe.isnull().sum())\n",
    "    print(\"##################### Quantiles #####################\")\n",
    "    print(dataframe.describe([0, 0.05, 0.50, 0.95, 0.99, 1]).T)"
   ]
  },
  {
   "cell_type": "code",
   "execution_count": 4,
   "id": "a6939083",
   "metadata": {
    "execution": {
     "iopub.execute_input": "2023-11-09T10:37:28.945083Z",
     "iopub.status.busy": "2023-11-09T10:37:28.944342Z",
     "iopub.status.idle": "2023-11-09T10:37:28.985794Z",
     "shell.execute_reply": "2023-11-09T10:37:28.984689Z"
    },
    "papermill": {
     "duration": 0.056257,
     "end_time": "2023-11-09T10:37:28.988623",
     "exception": false,
     "start_time": "2023-11-09T10:37:28.932366",
     "status": "completed"
    },
    "tags": []
   },
   "outputs": [
    {
     "name": "stdout",
     "output_type": "stream",
     "text": [
      "##################### Shape #####################\n",
      "(5000, 5)\n",
      "##################### Types #####################\n",
      "PRICE       int64\n",
      "SOURCE     object\n",
      "SEX        object\n",
      "COUNTRY    object\n",
      "AGE         int64\n",
      "dtype: object\n",
      "##################### Head #####################\n",
      "   PRICE   SOURCE   SEX COUNTRY  AGE\n",
      "0     39  android  male     bra   17\n",
      "1     39  android  male     bra   17\n",
      "2     49  android  male     bra   17\n",
      "3     29  android  male     tur   17\n",
      "4     49  android  male     tur   17\n",
      "##################### Tail #####################\n",
      "      PRICE   SOURCE     SEX COUNTRY  AGE\n",
      "4995     29  android  female     bra   31\n",
      "4996     29  android  female     bra   31\n",
      "4997     29  android  female     bra   31\n",
      "4998     39  android  female     bra   31\n",
      "4999     29  android  female     bra   31\n",
      "##################### NA #####################\n",
      "PRICE      0\n",
      "SOURCE     0\n",
      "SEX        0\n",
      "COUNTRY    0\n",
      "AGE        0\n",
      "dtype: int64\n",
      "##################### Quantiles #####################\n",
      "        count     mean        std   min    0%    5%   50%   95%   99%  100%   max\n",
      "PRICE  5000.0  34.1320  12.464897   9.0   9.0  19.0  39.0  49.0  59.0  59.0  59.0\n",
      "AGE    5000.0  23.5814   8.995908  15.0  15.0  15.0  21.0  43.0  53.0  66.0  66.0\n"
     ]
    }
   ],
   "source": [
    "check_df(df)"
   ]
  },
  {
   "cell_type": "code",
   "execution_count": 5,
   "id": "4925c56f",
   "metadata": {
    "execution": {
     "iopub.execute_input": "2023-11-09T10:37:29.013281Z",
     "iopub.status.busy": "2023-11-09T10:37:29.012610Z",
     "iopub.status.idle": "2023-11-09T10:37:29.031653Z",
     "shell.execute_reply": "2023-11-09T10:37:29.030396Z"
    },
    "papermill": {
     "duration": 0.034339,
     "end_time": "2023-11-09T10:37:29.034119",
     "exception": false,
     "start_time": "2023-11-09T10:37:28.999780",
     "status": "completed"
    },
    "tags": []
   },
   "outputs": [
    {
     "data": {
      "text/plain": [
       "SOURCE\n",
       "android    2974\n",
       "ios        2026\n",
       "Name: count, dtype: int64"
      ]
     },
     "execution_count": 5,
     "metadata": {},
     "output_type": "execute_result"
    }
   ],
   "source": [
    "df[\"SOURCE\"].nunique()\n",
    "df[\"SOURCE\"].unique()\n",
    "df[\"SOURCE\"].value_counts()"
   ]
  },
  {
   "cell_type": "code",
   "execution_count": 6,
   "id": "f210c972",
   "metadata": {
    "execution": {
     "iopub.execute_input": "2023-11-09T10:37:29.057936Z",
     "iopub.status.busy": "2023-11-09T10:37:29.056983Z",
     "iopub.status.idle": "2023-11-09T10:37:29.068377Z",
     "shell.execute_reply": "2023-11-09T10:37:29.067245Z"
    },
    "papermill": {
     "duration": 0.025893,
     "end_time": "2023-11-09T10:37:29.070796",
     "exception": false,
     "start_time": "2023-11-09T10:37:29.044903",
     "status": "completed"
    },
    "tags": []
   },
   "outputs": [
    {
     "data": {
      "text/plain": [
       "PRICE\n",
       "29    1305\n",
       "39    1260\n",
       "49    1031\n",
       "19     992\n",
       "59     212\n",
       "9      200\n",
       "Name: count, dtype: int64"
      ]
     },
     "execution_count": 6,
     "metadata": {},
     "output_type": "execute_result"
    }
   ],
   "source": [
    "df[\"PRICE\"].nunique()\n",
    "df[\"PRICE\"].value_counts()"
   ]
  },
  {
   "cell_type": "code",
   "execution_count": 7,
   "id": "68588bc2",
   "metadata": {
    "execution": {
     "iopub.execute_input": "2023-11-09T10:37:29.096096Z",
     "iopub.status.busy": "2023-11-09T10:37:29.095329Z",
     "iopub.status.idle": "2023-11-09T10:37:29.125632Z",
     "shell.execute_reply": "2023-11-09T10:37:29.124541Z"
    },
    "papermill": {
     "duration": 0.046359,
     "end_time": "2023-11-09T10:37:29.128430",
     "exception": false,
     "start_time": "2023-11-09T10:37:29.082071",
     "status": "completed"
    },
    "tags": []
   },
   "outputs": [
    {
     "data": {
      "text/html": [
       "<div>\n",
       "<style scoped>\n",
       "    .dataframe tbody tr th:only-of-type {\n",
       "        vertical-align: middle;\n",
       "    }\n",
       "\n",
       "    .dataframe tbody tr th {\n",
       "        vertical-align: top;\n",
       "    }\n",
       "\n",
       "    .dataframe thead th {\n",
       "        text-align: right;\n",
       "    }\n",
       "</style>\n",
       "<table border=\"1\" class=\"dataframe\">\n",
       "  <thead>\n",
       "    <tr style=\"text-align: right;\">\n",
       "      <th></th>\n",
       "      <th>PRICE</th>\n",
       "    </tr>\n",
       "    <tr>\n",
       "      <th>COUNTRY</th>\n",
       "      <th></th>\n",
       "    </tr>\n",
       "  </thead>\n",
       "  <tbody>\n",
       "    <tr>\n",
       "      <th>bra</th>\n",
       "      <td>34.327540</td>\n",
       "    </tr>\n",
       "    <tr>\n",
       "      <th>can</th>\n",
       "      <td>33.608696</td>\n",
       "    </tr>\n",
       "    <tr>\n",
       "      <th>deu</th>\n",
       "      <td>34.032967</td>\n",
       "    </tr>\n",
       "    <tr>\n",
       "      <th>fra</th>\n",
       "      <td>33.587459</td>\n",
       "    </tr>\n",
       "    <tr>\n",
       "      <th>tur</th>\n",
       "      <td>34.787140</td>\n",
       "    </tr>\n",
       "    <tr>\n",
       "      <th>usa</th>\n",
       "      <td>34.007264</td>\n",
       "    </tr>\n",
       "  </tbody>\n",
       "</table>\n",
       "</div>"
      ],
      "text/plain": [
       "             PRICE\n",
       "COUNTRY           \n",
       "bra      34.327540\n",
       "can      33.608696\n",
       "deu      34.032967\n",
       "fra      33.587459\n",
       "tur      34.787140\n",
       "usa      34.007264"
      ]
     },
     "execution_count": 7,
     "metadata": {},
     "output_type": "execute_result"
    }
   ],
   "source": [
    "df.groupby(\"COUNTRY\").agg({\"PRICE\":\"count\"})\n",
    "df.groupby(\"COUNTRY\").agg({\"PRICE\":\"sum\"})\n",
    "df.groupby(\"COUNTRY\").agg({\"PRICE\":\"mean\"})"
   ]
  },
  {
   "cell_type": "code",
   "execution_count": 8,
   "id": "dbf8a249",
   "metadata": {
    "execution": {
     "iopub.execute_input": "2023-11-09T10:37:29.153326Z",
     "iopub.status.busy": "2023-11-09T10:37:29.152301Z",
     "iopub.status.idle": "2023-11-09T10:37:29.163064Z",
     "shell.execute_reply": "2023-11-09T10:37:29.162193Z"
    },
    "papermill": {
     "duration": 0.026026,
     "end_time": "2023-11-09T10:37:29.165659",
     "exception": false,
     "start_time": "2023-11-09T10:37:29.139633",
     "status": "completed"
    },
    "tags": []
   },
   "outputs": [],
   "source": [
    "agg_df=df.groupby([\"COUNTRY\",\"SOURCE\",\"SEX\",\"AGE\"]).agg({\"PRICE\":\"mean\"}).sort_values(by=\"PRICE\",ascending=False)"
   ]
  },
  {
   "cell_type": "code",
   "execution_count": 9,
   "id": "8cedc873",
   "metadata": {
    "execution": {
     "iopub.execute_input": "2023-11-09T10:37:29.190264Z",
     "iopub.status.busy": "2023-11-09T10:37:29.189840Z",
     "iopub.status.idle": "2023-11-09T10:37:29.203774Z",
     "shell.execute_reply": "2023-11-09T10:37:29.202392Z"
    },
    "papermill": {
     "duration": 0.029225,
     "end_time": "2023-11-09T10:37:29.206238",
     "exception": false,
     "start_time": "2023-11-09T10:37:29.177013",
     "status": "completed"
    },
    "tags": []
   },
   "outputs": [
    {
     "data": {
      "text/html": [
       "<div>\n",
       "<style scoped>\n",
       "    .dataframe tbody tr th:only-of-type {\n",
       "        vertical-align: middle;\n",
       "    }\n",
       "\n",
       "    .dataframe tbody tr th {\n",
       "        vertical-align: top;\n",
       "    }\n",
       "\n",
       "    .dataframe thead th {\n",
       "        text-align: right;\n",
       "    }\n",
       "</style>\n",
       "<table border=\"1\" class=\"dataframe\">\n",
       "  <thead>\n",
       "    <tr style=\"text-align: right;\">\n",
       "      <th></th>\n",
       "      <th></th>\n",
       "      <th></th>\n",
       "      <th></th>\n",
       "      <th>PRICE</th>\n",
       "    </tr>\n",
       "    <tr>\n",
       "      <th>COUNTRY</th>\n",
       "      <th>SOURCE</th>\n",
       "      <th>SEX</th>\n",
       "      <th>AGE</th>\n",
       "      <th></th>\n",
       "    </tr>\n",
       "  </thead>\n",
       "  <tbody>\n",
       "    <tr>\n",
       "      <th>bra</th>\n",
       "      <th>android</th>\n",
       "      <th>male</th>\n",
       "      <th>46</th>\n",
       "      <td>59.0</td>\n",
       "    </tr>\n",
       "    <tr>\n",
       "      <th>usa</th>\n",
       "      <th>android</th>\n",
       "      <th>male</th>\n",
       "      <th>36</th>\n",
       "      <td>59.0</td>\n",
       "    </tr>\n",
       "    <tr>\n",
       "      <th>fra</th>\n",
       "      <th>android</th>\n",
       "      <th>female</th>\n",
       "      <th>24</th>\n",
       "      <td>59.0</td>\n",
       "    </tr>\n",
       "    <tr>\n",
       "      <th>usa</th>\n",
       "      <th>ios</th>\n",
       "      <th>male</th>\n",
       "      <th>32</th>\n",
       "      <td>54.0</td>\n",
       "    </tr>\n",
       "    <tr>\n",
       "      <th>deu</th>\n",
       "      <th>android</th>\n",
       "      <th>female</th>\n",
       "      <th>36</th>\n",
       "      <td>49.0</td>\n",
       "    </tr>\n",
       "  </tbody>\n",
       "</table>\n",
       "</div>"
      ],
      "text/plain": [
       "                            PRICE\n",
       "COUNTRY SOURCE  SEX    AGE       \n",
       "bra     android male   46    59.0\n",
       "usa     android male   36    59.0\n",
       "fra     android female 24    59.0\n",
       "usa     ios     male   32    54.0\n",
       "deu     android female 36    49.0"
      ]
     },
     "execution_count": 9,
     "metadata": {},
     "output_type": "execute_result"
    }
   ],
   "source": [
    "agg_df.head()"
   ]
  },
  {
   "cell_type": "code",
   "execution_count": 10,
   "id": "e7d101ba",
   "metadata": {
    "execution": {
     "iopub.execute_input": "2023-11-09T10:37:29.237646Z",
     "iopub.status.busy": "2023-11-09T10:37:29.237235Z",
     "iopub.status.idle": "2023-11-09T10:37:29.246339Z",
     "shell.execute_reply": "2023-11-09T10:37:29.245101Z"
    },
    "papermill": {
     "duration": 0.030101,
     "end_time": "2023-11-09T10:37:29.248732",
     "exception": false,
     "start_time": "2023-11-09T10:37:29.218631",
     "status": "completed"
    },
    "tags": []
   },
   "outputs": [],
   "source": [
    "agg_df.reset_index(inplace=True)"
   ]
  },
  {
   "cell_type": "code",
   "execution_count": 11,
   "id": "dd646256",
   "metadata": {
    "execution": {
     "iopub.execute_input": "2023-11-09T10:37:29.273411Z",
     "iopub.status.busy": "2023-11-09T10:37:29.273003Z",
     "iopub.status.idle": "2023-11-09T10:37:29.287039Z",
     "shell.execute_reply": "2023-11-09T10:37:29.285751Z"
    },
    "papermill": {
     "duration": 0.029357,
     "end_time": "2023-11-09T10:37:29.289552",
     "exception": false,
     "start_time": "2023-11-09T10:37:29.260195",
     "status": "completed"
    },
    "tags": []
   },
   "outputs": [
    {
     "data": {
      "text/html": [
       "<div>\n",
       "<style scoped>\n",
       "    .dataframe tbody tr th:only-of-type {\n",
       "        vertical-align: middle;\n",
       "    }\n",
       "\n",
       "    .dataframe tbody tr th {\n",
       "        vertical-align: top;\n",
       "    }\n",
       "\n",
       "    .dataframe thead th {\n",
       "        text-align: right;\n",
       "    }\n",
       "</style>\n",
       "<table border=\"1\" class=\"dataframe\">\n",
       "  <thead>\n",
       "    <tr style=\"text-align: right;\">\n",
       "      <th></th>\n",
       "      <th>COUNTRY</th>\n",
       "      <th>SOURCE</th>\n",
       "      <th>SEX</th>\n",
       "      <th>AGE</th>\n",
       "      <th>PRICE</th>\n",
       "    </tr>\n",
       "  </thead>\n",
       "  <tbody>\n",
       "    <tr>\n",
       "      <th>0</th>\n",
       "      <td>bra</td>\n",
       "      <td>android</td>\n",
       "      <td>male</td>\n",
       "      <td>46</td>\n",
       "      <td>59.0</td>\n",
       "    </tr>\n",
       "    <tr>\n",
       "      <th>1</th>\n",
       "      <td>usa</td>\n",
       "      <td>android</td>\n",
       "      <td>male</td>\n",
       "      <td>36</td>\n",
       "      <td>59.0</td>\n",
       "    </tr>\n",
       "    <tr>\n",
       "      <th>2</th>\n",
       "      <td>fra</td>\n",
       "      <td>android</td>\n",
       "      <td>female</td>\n",
       "      <td>24</td>\n",
       "      <td>59.0</td>\n",
       "    </tr>\n",
       "    <tr>\n",
       "      <th>3</th>\n",
       "      <td>usa</td>\n",
       "      <td>ios</td>\n",
       "      <td>male</td>\n",
       "      <td>32</td>\n",
       "      <td>54.0</td>\n",
       "    </tr>\n",
       "    <tr>\n",
       "      <th>4</th>\n",
       "      <td>deu</td>\n",
       "      <td>android</td>\n",
       "      <td>female</td>\n",
       "      <td>36</td>\n",
       "      <td>49.0</td>\n",
       "    </tr>\n",
       "  </tbody>\n",
       "</table>\n",
       "</div>"
      ],
      "text/plain": [
       "  COUNTRY   SOURCE     SEX  AGE  PRICE\n",
       "0     bra  android    male   46   59.0\n",
       "1     usa  android    male   36   59.0\n",
       "2     fra  android  female   24   59.0\n",
       "3     usa      ios    male   32   54.0\n",
       "4     deu  android  female   36   49.0"
      ]
     },
     "execution_count": 11,
     "metadata": {},
     "output_type": "execute_result"
    }
   ],
   "source": [
    "agg_df.head()"
   ]
  },
  {
   "cell_type": "code",
   "execution_count": 12,
   "id": "1a5a219d",
   "metadata": {
    "execution": {
     "iopub.execute_input": "2023-11-09T10:37:29.314931Z",
     "iopub.status.busy": "2023-11-09T10:37:29.314179Z",
     "iopub.status.idle": "2023-11-09T10:37:29.320443Z",
     "shell.execute_reply": "2023-11-09T10:37:29.319189Z"
    },
    "papermill": {
     "duration": 0.021308,
     "end_time": "2023-11-09T10:37:29.322750",
     "exception": false,
     "start_time": "2023-11-09T10:37:29.301442",
     "status": "completed"
    },
    "tags": []
   },
   "outputs": [],
   "source": [
    "bins=[18,23,30,40,70,df[\"AGE\"].max()]\n",
    "labels=['0_18','19_23', '24_30', '31_40', '41_70','>70']"
   ]
  },
  {
   "cell_type": "code",
   "execution_count": 13,
   "id": "9db306c0",
   "metadata": {
    "execution": {
     "iopub.execute_input": "2023-11-09T10:37:29.347720Z",
     "iopub.status.busy": "2023-11-09T10:37:29.347308Z",
     "iopub.status.idle": "2023-11-09T10:37:29.358218Z",
     "shell.execute_reply": "2023-11-09T10:37:29.357037Z"
    },
    "papermill": {
     "duration": 0.026347,
     "end_time": "2023-11-09T10:37:29.360586",
     "exception": false,
     "start_time": "2023-11-09T10:37:29.334239",
     "status": "completed"
    },
    "tags": []
   },
   "outputs": [],
   "source": [
    "agg_df[\"AGE_CAT\"]=pd.cut(agg_df[\"AGE\"],6,bins,labels=labels)"
   ]
  },
  {
   "cell_type": "code",
   "execution_count": 14,
   "id": "e1c639a3",
   "metadata": {
    "execution": {
     "iopub.execute_input": "2023-11-09T10:37:29.385380Z",
     "iopub.status.busy": "2023-11-09T10:37:29.384929Z",
     "iopub.status.idle": "2023-11-09T10:37:29.401164Z",
     "shell.execute_reply": "2023-11-09T10:37:29.400063Z"
    },
    "papermill": {
     "duration": 0.031985,
     "end_time": "2023-11-09T10:37:29.403966",
     "exception": false,
     "start_time": "2023-11-09T10:37:29.371981",
     "status": "completed"
    },
    "tags": []
   },
   "outputs": [
    {
     "data": {
      "text/html": [
       "<div>\n",
       "<style scoped>\n",
       "    .dataframe tbody tr th:only-of-type {\n",
       "        vertical-align: middle;\n",
       "    }\n",
       "\n",
       "    .dataframe tbody tr th {\n",
       "        vertical-align: top;\n",
       "    }\n",
       "\n",
       "    .dataframe thead th {\n",
       "        text-align: right;\n",
       "    }\n",
       "</style>\n",
       "<table border=\"1\" class=\"dataframe\">\n",
       "  <thead>\n",
       "    <tr style=\"text-align: right;\">\n",
       "      <th></th>\n",
       "      <th>COUNTRY</th>\n",
       "      <th>SOURCE</th>\n",
       "      <th>SEX</th>\n",
       "      <th>AGE</th>\n",
       "      <th>PRICE</th>\n",
       "      <th>AGE_CAT</th>\n",
       "    </tr>\n",
       "  </thead>\n",
       "  <tbody>\n",
       "    <tr>\n",
       "      <th>0</th>\n",
       "      <td>bra</td>\n",
       "      <td>android</td>\n",
       "      <td>male</td>\n",
       "      <td>46</td>\n",
       "      <td>59.0</td>\n",
       "      <td>31_40</td>\n",
       "    </tr>\n",
       "    <tr>\n",
       "      <th>1</th>\n",
       "      <td>usa</td>\n",
       "      <td>android</td>\n",
       "      <td>male</td>\n",
       "      <td>36</td>\n",
       "      <td>59.0</td>\n",
       "      <td>24_30</td>\n",
       "    </tr>\n",
       "    <tr>\n",
       "      <th>2</th>\n",
       "      <td>fra</td>\n",
       "      <td>android</td>\n",
       "      <td>female</td>\n",
       "      <td>24</td>\n",
       "      <td>59.0</td>\n",
       "      <td>19_23</td>\n",
       "    </tr>\n",
       "    <tr>\n",
       "      <th>3</th>\n",
       "      <td>usa</td>\n",
       "      <td>ios</td>\n",
       "      <td>male</td>\n",
       "      <td>32</td>\n",
       "      <td>54.0</td>\n",
       "      <td>19_23</td>\n",
       "    </tr>\n",
       "    <tr>\n",
       "      <th>4</th>\n",
       "      <td>deu</td>\n",
       "      <td>android</td>\n",
       "      <td>female</td>\n",
       "      <td>36</td>\n",
       "      <td>49.0</td>\n",
       "      <td>24_30</td>\n",
       "    </tr>\n",
       "  </tbody>\n",
       "</table>\n",
       "</div>"
      ],
      "text/plain": [
       "  COUNTRY   SOURCE     SEX  AGE  PRICE AGE_CAT\n",
       "0     bra  android    male   46   59.0   31_40\n",
       "1     usa  android    male   36   59.0   24_30\n",
       "2     fra  android  female   24   59.0   19_23\n",
       "3     usa      ios    male   32   54.0   19_23\n",
       "4     deu  android  female   36   49.0   24_30"
      ]
     },
     "execution_count": 14,
     "metadata": {},
     "output_type": "execute_result"
    }
   ],
   "source": [
    "agg_df.head()"
   ]
  },
  {
   "cell_type": "markdown",
   "id": "4879e06e",
   "metadata": {
    "papermill": {
     "duration": 0.011417,
     "end_time": "2023-11-09T10:37:29.427324",
     "exception": false,
     "start_time": "2023-11-09T10:37:29.415907",
     "status": "completed"
    },
    "tags": []
   },
   "source": [
    "# Defining new level-based customers (personas)"
   ]
  },
  {
   "cell_type": "code",
   "execution_count": 15,
   "id": "54b4ae15",
   "metadata": {
    "execution": {
     "iopub.execute_input": "2023-11-09T10:37:29.453544Z",
     "iopub.status.busy": "2023-11-09T10:37:29.453078Z",
     "iopub.status.idle": "2023-11-09T10:37:29.463658Z",
     "shell.execute_reply": "2023-11-09T10:37:29.462373Z"
    },
    "papermill": {
     "duration": 0.02774,
     "end_time": "2023-11-09T10:37:29.466724",
     "exception": false,
     "start_time": "2023-11-09T10:37:29.438984",
     "status": "completed"
    },
    "tags": []
   },
   "outputs": [],
   "source": [
    "agg_df[\"customers_level_based\"]=agg_df[\"COUNTRY\"] +\"_\"+ agg_df[\"SOURCE\"]+\"_\" +agg_df[\"SEX\"]+\"_\"+agg_df[\"AGE_CAT\"].astype(\"O\")\n",
    "agg_df[\"customers_level_based\"]=agg_df[\"customers_level_based\"].str.upper()\n"
   ]
  },
  {
   "cell_type": "code",
   "execution_count": 16,
   "id": "f29d452b",
   "metadata": {
    "execution": {
     "iopub.execute_input": "2023-11-09T10:37:29.492050Z",
     "iopub.status.busy": "2023-11-09T10:37:29.491661Z",
     "iopub.status.idle": "2023-11-09T10:37:29.507720Z",
     "shell.execute_reply": "2023-11-09T10:37:29.506499Z"
    },
    "papermill": {
     "duration": 0.03166,
     "end_time": "2023-11-09T10:37:29.510234",
     "exception": false,
     "start_time": "2023-11-09T10:37:29.478574",
     "status": "completed"
    },
    "tags": []
   },
   "outputs": [
    {
     "data": {
      "text/html": [
       "<div>\n",
       "<style scoped>\n",
       "    .dataframe tbody tr th:only-of-type {\n",
       "        vertical-align: middle;\n",
       "    }\n",
       "\n",
       "    .dataframe tbody tr th {\n",
       "        vertical-align: top;\n",
       "    }\n",
       "\n",
       "    .dataframe thead th {\n",
       "        text-align: right;\n",
       "    }\n",
       "</style>\n",
       "<table border=\"1\" class=\"dataframe\">\n",
       "  <thead>\n",
       "    <tr style=\"text-align: right;\">\n",
       "      <th></th>\n",
       "      <th>COUNTRY</th>\n",
       "      <th>SOURCE</th>\n",
       "      <th>SEX</th>\n",
       "      <th>AGE</th>\n",
       "      <th>PRICE</th>\n",
       "      <th>AGE_CAT</th>\n",
       "      <th>customers_level_based</th>\n",
       "    </tr>\n",
       "  </thead>\n",
       "  <tbody>\n",
       "    <tr>\n",
       "      <th>0</th>\n",
       "      <td>bra</td>\n",
       "      <td>android</td>\n",
       "      <td>male</td>\n",
       "      <td>46</td>\n",
       "      <td>59.0</td>\n",
       "      <td>31_40</td>\n",
       "      <td>BRA_ANDROID_MALE_31_40</td>\n",
       "    </tr>\n",
       "    <tr>\n",
       "      <th>1</th>\n",
       "      <td>usa</td>\n",
       "      <td>android</td>\n",
       "      <td>male</td>\n",
       "      <td>36</td>\n",
       "      <td>59.0</td>\n",
       "      <td>24_30</td>\n",
       "      <td>USA_ANDROID_MALE_24_30</td>\n",
       "    </tr>\n",
       "    <tr>\n",
       "      <th>2</th>\n",
       "      <td>fra</td>\n",
       "      <td>android</td>\n",
       "      <td>female</td>\n",
       "      <td>24</td>\n",
       "      <td>59.0</td>\n",
       "      <td>19_23</td>\n",
       "      <td>FRA_ANDROID_FEMALE_19_23</td>\n",
       "    </tr>\n",
       "    <tr>\n",
       "      <th>3</th>\n",
       "      <td>usa</td>\n",
       "      <td>ios</td>\n",
       "      <td>male</td>\n",
       "      <td>32</td>\n",
       "      <td>54.0</td>\n",
       "      <td>19_23</td>\n",
       "      <td>USA_IOS_MALE_19_23</td>\n",
       "    </tr>\n",
       "    <tr>\n",
       "      <th>4</th>\n",
       "      <td>deu</td>\n",
       "      <td>android</td>\n",
       "      <td>female</td>\n",
       "      <td>36</td>\n",
       "      <td>49.0</td>\n",
       "      <td>24_30</td>\n",
       "      <td>DEU_ANDROID_FEMALE_24_30</td>\n",
       "    </tr>\n",
       "  </tbody>\n",
       "</table>\n",
       "</div>"
      ],
      "text/plain": [
       "  COUNTRY   SOURCE     SEX  AGE  PRICE AGE_CAT     customers_level_based\n",
       "0     bra  android    male   46   59.0   31_40    BRA_ANDROID_MALE_31_40\n",
       "1     usa  android    male   36   59.0   24_30    USA_ANDROID_MALE_24_30\n",
       "2     fra  android  female   24   59.0   19_23  FRA_ANDROID_FEMALE_19_23\n",
       "3     usa      ios    male   32   54.0   19_23        USA_IOS_MALE_19_23\n",
       "4     deu  android  female   36   49.0   24_30  DEU_ANDROID_FEMALE_24_30"
      ]
     },
     "execution_count": 16,
     "metadata": {},
     "output_type": "execute_result"
    }
   ],
   "source": [
    "agg_df.head()"
   ]
  },
  {
   "cell_type": "code",
   "execution_count": 17,
   "id": "98c5bc8e",
   "metadata": {
    "execution": {
     "iopub.execute_input": "2023-11-09T10:37:29.536852Z",
     "iopub.status.busy": "2023-11-09T10:37:29.536439Z",
     "iopub.status.idle": "2023-11-09T10:37:29.545781Z",
     "shell.execute_reply": "2023-11-09T10:37:29.544579Z"
    },
    "papermill": {
     "duration": 0.02581,
     "end_time": "2023-11-09T10:37:29.548395",
     "exception": false,
     "start_time": "2023-11-09T10:37:29.522585",
     "status": "completed"
    },
    "tags": []
   },
   "outputs": [],
   "source": [
    "agg_df=agg_df[[\"customers_level_based\",\"PRICE\"]]"
   ]
  },
  {
   "cell_type": "code",
   "execution_count": 18,
   "id": "00666181",
   "metadata": {
    "execution": {
     "iopub.execute_input": "2023-11-09T10:37:29.574930Z",
     "iopub.status.busy": "2023-11-09T10:37:29.574542Z",
     "iopub.status.idle": "2023-11-09T10:37:29.583630Z",
     "shell.execute_reply": "2023-11-09T10:37:29.582378Z"
    },
    "papermill": {
     "duration": 0.025291,
     "end_time": "2023-11-09T10:37:29.585947",
     "exception": false,
     "start_time": "2023-11-09T10:37:29.560656",
     "status": "completed"
    },
    "tags": []
   },
   "outputs": [],
   "source": [
    "agg_df[\"SEGMENT\"]=pd.qcut(agg_df[\"PRICE\"],q=4,labels=[\"D\",\"C\",\"B\",\"A\"])"
   ]
  },
  {
   "cell_type": "code",
   "execution_count": 19,
   "id": "4adaa51a",
   "metadata": {
    "execution": {
     "iopub.execute_input": "2023-11-09T10:37:29.612734Z",
     "iopub.status.busy": "2023-11-09T10:37:29.612364Z",
     "iopub.status.idle": "2023-11-09T10:37:29.624601Z",
     "shell.execute_reply": "2023-11-09T10:37:29.623431Z"
    },
    "papermill": {
     "duration": 0.029062,
     "end_time": "2023-11-09T10:37:29.627145",
     "exception": false,
     "start_time": "2023-11-09T10:37:29.598083",
     "status": "completed"
    },
    "tags": []
   },
   "outputs": [
    {
     "data": {
      "text/html": [
       "<div>\n",
       "<style scoped>\n",
       "    .dataframe tbody tr th:only-of-type {\n",
       "        vertical-align: middle;\n",
       "    }\n",
       "\n",
       "    .dataframe tbody tr th {\n",
       "        vertical-align: top;\n",
       "    }\n",
       "\n",
       "    .dataframe thead th {\n",
       "        text-align: right;\n",
       "    }\n",
       "</style>\n",
       "<table border=\"1\" class=\"dataframe\">\n",
       "  <thead>\n",
       "    <tr style=\"text-align: right;\">\n",
       "      <th></th>\n",
       "      <th>customers_level_based</th>\n",
       "      <th>PRICE</th>\n",
       "      <th>SEGMENT</th>\n",
       "    </tr>\n",
       "  </thead>\n",
       "  <tbody>\n",
       "    <tr>\n",
       "      <th>343</th>\n",
       "      <td>USA_IOS_FEMALE_24_30</td>\n",
       "      <td>19.0</td>\n",
       "      <td>D</td>\n",
       "    </tr>\n",
       "    <tr>\n",
       "      <th>344</th>\n",
       "      <td>USA_IOS_FEMALE_19_23</td>\n",
       "      <td>19.0</td>\n",
       "      <td>D</td>\n",
       "    </tr>\n",
       "    <tr>\n",
       "      <th>345</th>\n",
       "      <td>CAN_ANDROID_FEMALE_19_23</td>\n",
       "      <td>19.0</td>\n",
       "      <td>D</td>\n",
       "    </tr>\n",
       "    <tr>\n",
       "      <th>346</th>\n",
       "      <td>FRA_ANDROID_MALE_0_18</td>\n",
       "      <td>19.0</td>\n",
       "      <td>D</td>\n",
       "    </tr>\n",
       "    <tr>\n",
       "      <th>347</th>\n",
       "      <td>DEU_ANDROID_MALE_19_23</td>\n",
       "      <td>9.0</td>\n",
       "      <td>D</td>\n",
       "    </tr>\n",
       "  </tbody>\n",
       "</table>\n",
       "</div>"
      ],
      "text/plain": [
       "        customers_level_based  PRICE SEGMENT\n",
       "343      USA_IOS_FEMALE_24_30   19.0       D\n",
       "344      USA_IOS_FEMALE_19_23   19.0       D\n",
       "345  CAN_ANDROID_FEMALE_19_23   19.0       D\n",
       "346     FRA_ANDROID_MALE_0_18   19.0       D\n",
       "347    DEU_ANDROID_MALE_19_23    9.0       D"
      ]
     },
     "execution_count": 19,
     "metadata": {},
     "output_type": "execute_result"
    }
   ],
   "source": [
    "agg_df.tail()"
   ]
  },
  {
   "cell_type": "code",
   "execution_count": 20,
   "id": "08373399",
   "metadata": {
    "execution": {
     "iopub.execute_input": "2023-11-09T10:37:29.654585Z",
     "iopub.status.busy": "2023-11-09T10:37:29.654096Z",
     "iopub.status.idle": "2023-11-09T10:37:29.667410Z",
     "shell.execute_reply": "2023-11-09T10:37:29.666217Z"
    },
    "papermill": {
     "duration": 0.029918,
     "end_time": "2023-11-09T10:37:29.669935",
     "exception": false,
     "start_time": "2023-11-09T10:37:29.640017",
     "status": "completed"
    },
    "tags": []
   },
   "outputs": [
    {
     "data": {
      "text/html": [
       "<div>\n",
       "<style scoped>\n",
       "    .dataframe tbody tr th:only-of-type {\n",
       "        vertical-align: middle;\n",
       "    }\n",
       "\n",
       "    .dataframe tbody tr th {\n",
       "        vertical-align: top;\n",
       "    }\n",
       "\n",
       "    .dataframe thead th {\n",
       "        text-align: right;\n",
       "    }\n",
       "</style>\n",
       "<table border=\"1\" class=\"dataframe\">\n",
       "  <thead>\n",
       "    <tr style=\"text-align: right;\">\n",
       "      <th></th>\n",
       "      <th>customers_level_based</th>\n",
       "      <th>PRICE</th>\n",
       "      <th>SEGMENT</th>\n",
       "    </tr>\n",
       "  </thead>\n",
       "  <tbody>\n",
       "    <tr>\n",
       "      <th>0</th>\n",
       "      <td>BRA_ANDROID_MALE_31_40</td>\n",
       "      <td>59.0</td>\n",
       "      <td>A</td>\n",
       "    </tr>\n",
       "    <tr>\n",
       "      <th>1</th>\n",
       "      <td>USA_ANDROID_MALE_24_30</td>\n",
       "      <td>59.0</td>\n",
       "      <td>A</td>\n",
       "    </tr>\n",
       "    <tr>\n",
       "      <th>2</th>\n",
       "      <td>FRA_ANDROID_FEMALE_19_23</td>\n",
       "      <td>59.0</td>\n",
       "      <td>A</td>\n",
       "    </tr>\n",
       "    <tr>\n",
       "      <th>3</th>\n",
       "      <td>USA_IOS_MALE_19_23</td>\n",
       "      <td>54.0</td>\n",
       "      <td>A</td>\n",
       "    </tr>\n",
       "    <tr>\n",
       "      <th>4</th>\n",
       "      <td>DEU_ANDROID_FEMALE_24_30</td>\n",
       "      <td>49.0</td>\n",
       "      <td>A</td>\n",
       "    </tr>\n",
       "  </tbody>\n",
       "</table>\n",
       "</div>"
      ],
      "text/plain": [
       "      customers_level_based  PRICE SEGMENT\n",
       "0    BRA_ANDROID_MALE_31_40   59.0       A\n",
       "1    USA_ANDROID_MALE_24_30   59.0       A\n",
       "2  FRA_ANDROID_FEMALE_19_23   59.0       A\n",
       "3        USA_IOS_MALE_19_23   54.0       A\n",
       "4  DEU_ANDROID_FEMALE_24_30   49.0       A"
      ]
     },
     "execution_count": 20,
     "metadata": {},
     "output_type": "execute_result"
    }
   ],
   "source": [
    "agg_df.head()"
   ]
  },
  {
   "cell_type": "code",
   "execution_count": 21,
   "id": "13ce323d",
   "metadata": {
    "execution": {
     "iopub.execute_input": "2023-11-09T10:37:29.697280Z",
     "iopub.status.busy": "2023-11-09T10:37:29.696849Z",
     "iopub.status.idle": "2023-11-09T10:37:29.716941Z",
     "shell.execute_reply": "2023-11-09T10:37:29.716066Z"
    },
    "papermill": {
     "duration": 0.036426,
     "end_time": "2023-11-09T10:37:29.719158",
     "exception": false,
     "start_time": "2023-11-09T10:37:29.682732",
     "status": "completed"
    },
    "tags": []
   },
   "outputs": [
    {
     "data": {
      "text/html": [
       "<div>\n",
       "<style scoped>\n",
       "    .dataframe tbody tr th:only-of-type {\n",
       "        vertical-align: middle;\n",
       "    }\n",
       "\n",
       "    .dataframe tbody tr th {\n",
       "        vertical-align: top;\n",
       "    }\n",
       "\n",
       "    .dataframe thead tr th {\n",
       "        text-align: left;\n",
       "    }\n",
       "\n",
       "    .dataframe thead tr:last-of-type th {\n",
       "        text-align: right;\n",
       "    }\n",
       "</style>\n",
       "<table border=\"1\" class=\"dataframe\">\n",
       "  <thead>\n",
       "    <tr>\n",
       "      <th></th>\n",
       "      <th colspan=\"3\" halign=\"left\">PRICE</th>\n",
       "    </tr>\n",
       "    <tr>\n",
       "      <th></th>\n",
       "      <th>mean</th>\n",
       "      <th>max</th>\n",
       "      <th>sum</th>\n",
       "    </tr>\n",
       "    <tr>\n",
       "      <th>SEGMENT</th>\n",
       "      <th></th>\n",
       "      <th></th>\n",
       "      <th></th>\n",
       "    </tr>\n",
       "  </thead>\n",
       "  <tbody>\n",
       "    <tr>\n",
       "      <th>D</th>\n",
       "      <td>27.302596</td>\n",
       "      <td>31.105263</td>\n",
       "      <td>2375.325850</td>\n",
       "    </tr>\n",
       "    <tr>\n",
       "      <th>C</th>\n",
       "      <td>32.933339</td>\n",
       "      <td>34.000000</td>\n",
       "      <td>3128.667165</td>\n",
       "    </tr>\n",
       "    <tr>\n",
       "      <th>B</th>\n",
       "      <td>35.436170</td>\n",
       "      <td>37.000000</td>\n",
       "      <td>2870.329792</td>\n",
       "    </tr>\n",
       "    <tr>\n",
       "      <th>A</th>\n",
       "      <td>41.434736</td>\n",
       "      <td>59.000000</td>\n",
       "      <td>3521.952577</td>\n",
       "    </tr>\n",
       "  </tbody>\n",
       "</table>\n",
       "</div>"
      ],
      "text/plain": [
       "             PRICE                        \n",
       "              mean        max          sum\n",
       "SEGMENT                                   \n",
       "D        27.302596  31.105263  2375.325850\n",
       "C        32.933339  34.000000  3128.667165\n",
       "B        35.436170  37.000000  2870.329792\n",
       "A        41.434736  59.000000  3521.952577"
      ]
     },
     "execution_count": 21,
     "metadata": {},
     "output_type": "execute_result"
    }
   ],
   "source": [
    "agg_df.groupby(\"SEGMENT\").agg({\"PRICE\":[\"mean\",\"max\",\"sum\"]})"
   ]
  },
  {
   "cell_type": "markdown",
   "id": "9ac032fe",
   "metadata": {
    "papermill": {
     "duration": 0.012484,
     "end_time": "2023-11-09T10:37:29.744484",
     "exception": false,
     "start_time": "2023-11-09T10:37:29.732000",
     "status": "completed"
    },
    "tags": []
   },
   "source": [
    "# The segment in which a 33-year-old Turkish woman uses ANDROID and the income she is expected to earn"
   ]
  },
  {
   "cell_type": "code",
   "execution_count": 22,
   "id": "b236e228",
   "metadata": {
    "execution": {
     "iopub.execute_input": "2023-11-09T10:37:29.772264Z",
     "iopub.status.busy": "2023-11-09T10:37:29.771828Z",
     "iopub.status.idle": "2023-11-09T10:37:29.776830Z",
     "shell.execute_reply": "2023-11-09T10:37:29.775571Z"
    },
    "papermill": {
     "duration": 0.02227,
     "end_time": "2023-11-09T10:37:29.779471",
     "exception": false,
     "start_time": "2023-11-09T10:37:29.757201",
     "status": "completed"
    },
    "tags": []
   },
   "outputs": [],
   "source": [
    "new_user=\"TUR_ANDROID_FEMALE_31_40\""
   ]
  },
  {
   "cell_type": "code",
   "execution_count": 23,
   "id": "ee5388a7",
   "metadata": {
    "execution": {
     "iopub.execute_input": "2023-11-09T10:37:29.873610Z",
     "iopub.status.busy": "2023-11-09T10:37:29.873214Z",
     "iopub.status.idle": "2023-11-09T10:37:29.885124Z",
     "shell.execute_reply": "2023-11-09T10:37:29.884008Z"
    },
    "papermill": {
     "duration": 0.029597,
     "end_time": "2023-11-09T10:37:29.887352",
     "exception": false,
     "start_time": "2023-11-09T10:37:29.857755",
     "status": "completed"
    },
    "tags": []
   },
   "outputs": [
    {
     "data": {
      "text/html": [
       "<div>\n",
       "<style scoped>\n",
       "    .dataframe tbody tr th:only-of-type {\n",
       "        vertical-align: middle;\n",
       "    }\n",
       "\n",
       "    .dataframe tbody tr th {\n",
       "        vertical-align: top;\n",
       "    }\n",
       "\n",
       "    .dataframe thead th {\n",
       "        text-align: right;\n",
       "    }\n",
       "</style>\n",
       "<table border=\"1\" class=\"dataframe\">\n",
       "  <thead>\n",
       "    <tr style=\"text-align: right;\">\n",
       "      <th></th>\n",
       "      <th>customers_level_based</th>\n",
       "      <th>PRICE</th>\n",
       "      <th>SEGMENT</th>\n",
       "    </tr>\n",
       "  </thead>\n",
       "  <tbody>\n",
       "    <tr>\n",
       "      <th>60</th>\n",
       "      <td>TUR_ANDROID_FEMALE_31_40</td>\n",
       "      <td>39.0</td>\n",
       "      <td>A</td>\n",
       "    </tr>\n",
       "  </tbody>\n",
       "</table>\n",
       "</div>"
      ],
      "text/plain": [
       "       customers_level_based  PRICE SEGMENT\n",
       "60  TUR_ANDROID_FEMALE_31_40   39.0       A"
      ]
     },
     "execution_count": 23,
     "metadata": {},
     "output_type": "execute_result"
    }
   ],
   "source": [
    "agg_df[agg_df[\"customers_level_based\"]==new_user]"
   ]
  },
  {
   "cell_type": "markdown",
   "id": "066931fe",
   "metadata": {
    "papermill": {
     "duration": 0.012875,
     "end_time": "2023-11-09T10:37:29.913399",
     "exception": false,
     "start_time": "2023-11-09T10:37:29.900524",
     "status": "completed"
    },
    "tags": []
   },
   "source": [
    "# The segment of French women using IOS between the ages of 0-18 and the income they are expected to earn"
   ]
  },
  {
   "cell_type": "code",
   "execution_count": 24,
   "id": "f266d01a",
   "metadata": {
    "execution": {
     "iopub.execute_input": "2023-11-09T10:37:29.941766Z",
     "iopub.status.busy": "2023-11-09T10:37:29.941355Z",
     "iopub.status.idle": "2023-11-09T10:37:29.951726Z",
     "shell.execute_reply": "2023-11-09T10:37:29.950611Z"
    },
    "papermill": {
     "duration": 0.027493,
     "end_time": "2023-11-09T10:37:29.954098",
     "exception": false,
     "start_time": "2023-11-09T10:37:29.926605",
     "status": "completed"
    },
    "tags": []
   },
   "outputs": [
    {
     "data": {
      "text/plain": [
       "PRICE    31.312271\n",
       "dtype: float64"
      ]
     },
     "execution_count": 24,
     "metadata": {},
     "output_type": "execute_result"
    }
   ],
   "source": [
    "agg_df[agg_df[\"customers_level_based\"]==\"FRA_IOS_FEMALE_0_18\"].agg({\"PRICE\":\"mean\"})"
   ]
  },
  {
   "cell_type": "code",
   "execution_count": null,
   "id": "e47798be",
   "metadata": {
    "papermill": {
     "duration": 0.013065,
     "end_time": "2023-11-09T10:37:29.980600",
     "exception": false,
     "start_time": "2023-11-09T10:37:29.967535",
     "status": "completed"
    },
    "tags": []
   },
   "outputs": [],
   "source": []
  }
 ],
 "metadata": {
  "kernelspec": {
   "display_name": "Python 3",
   "language": "python",
   "name": "python3"
  },
  "language_info": {
   "codemirror_mode": {
    "name": "ipython",
    "version": 3
   },
   "file_extension": ".py",
   "mimetype": "text/x-python",
   "name": "python",
   "nbconvert_exporter": "python",
   "pygments_lexer": "ipython3",
   "version": "3.10.12"
  },
  "papermill": {
   "default_parameters": {},
   "duration": 7.68298,
   "end_time": "2023-11-09T10:37:30.614776",
   "environment_variables": {},
   "exception": null,
   "input_path": "__notebook__.ipynb",
   "output_path": "__notebook__.ipynb",
   "parameters": {},
   "start_time": "2023-11-09T10:37:22.931796",
   "version": "2.4.0"
  }
 },
 "nbformat": 4,
 "nbformat_minor": 5
}
